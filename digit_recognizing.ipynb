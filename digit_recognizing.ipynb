{
 "cells": [
  {
   "cell_type": "code",
   "execution_count": null,
   "metadata": {
    "collapsed": false
   },
   "outputs": [],
   "source": [
    "%matplotlib inline\n",
    "import matplotlib\n",
    "import numpy as np\n",
    "import matplotlib.pyplot as plt\n",
    "import sklearn.datasets\n",
    "import theano\n",
    "import theano.tensor as T\n",
    "import lasagne\n",
    "import time"
   ]
  },
  {
   "cell_type": "code",
   "execution_count": null,
   "metadata": {
    "collapsed": false
   },
   "outputs": [],
   "source": [
    "'''x_train\n",
    "y_train\n",
    "x_test\n",
    "y_test\n",
    "'''\n",
    "#load the data "
   ]
  },
  {
   "cell_type": "code",
   "execution_count": null,
   "metadata": {
    "collapsed": false
   },
   "outputs": [],
   "source": []
  },
  {
   "cell_type": "code",
   "execution_count": null,
   "metadata": {
    "collapsed": true
   },
   "outputs": [],
   "source": [
    "#Define a simple feed forward neural network\n",
    "from lasagne.nonlinearities import leaky_rectify, softmax, tanh, elu\n",
    "from lasagne.layers import InputLayer, DenseLayer, Conv2DLayer, batch_norm, DropoutLayer, MaxPool2DLayer\n",
    "from lasagne.layers import batch_norm\n",
    "import math\n",
    "\n",
    "#defined the model\n",
    "num_class = 10\n",
    "num_features = 28*28\n",
    "init=math.sqrt(2/(1+0.01**2))\n",
    "l_in=InputLayer( shape=(None,1,28,28) )\n",
    "#note that we use a 4D input since we need to retain the spatial arrangement of the pixels when working with convolutions.\n",
    "\n",
    "l_conv = (Conv2DLayer(l_in,num_filters=128,filter_size=3,nonlinearity=leaky_rectify, \n",
    "                     W=lasagne.init.GlorotUniform(init)))\n",
    "ld1= lasagne.layers.dropout(l_conv, p=0)\n",
    "l_conv2 = batch_norm(lasagne.layers.Conv2DLayer( ld1, num_filters=64, filter_size=(3, 3),\n",
    "            nonlinearity=leaky_rectify, W=lasagne.init.GlorotUniform(init)))\n",
    "ld2= lasagne.layers.dropout(l_conv2, p=0)\n",
    "\n",
    "l_conv3 = batch_norm(lasagne.layers.Conv2DLayer(ld2, num_filters=64, filter_size=(3, 3),\n",
    "            nonlinearity=leaky_rectify, W=lasagne.init.GlorotUniform(init)))\n",
    "ld3= lasagne.layers.dropout(l_conv3, p=0)\n",
    "l_conv4 = batch_norm(lasagne.layers.Conv2DLayer(ld3, num_filters=32, filter_size=(3, 3),\n",
    "            nonlinearity=leaky_rectify, W=lasagne.init.GlorotUniform(init)))\n",
    "ld4= lasagne.layers.dropout(l_conv4, p=0)\n",
    "    \n",
    "l_hid = batch_norm(DenseLayer( ld4, num_units=1000, nonlinearity=leaky_rectify,W=lasagne.init.GlorotUniform(init))) #remember to connect the new conv-layer here\n",
    "l_hid2 = batch_norm(DenseLayer( lasagne.layers.dropout(l_hid, p=0), \n",
    "                                num_units=600, nonlinearity=leaky_rectify,W=lasagne.init.GlorotUniform(init))) #remember to connect the new conv-layer here\n",
    "l_hid3 = batch_norm(DenseLayer( lasagne.layers.dropout(l_hid2,  p=0), \n",
    "                                num_units=300, nonlinearity=leaky_rectify,W=lasagne.init.GlorotUniform(init))) #remember to connect the new conv-layer here\n",
    "l_hid4 = batch_norm(DenseLayer( lasagne.layers.dropout(l_hid3,  p=0), \n",
    "                                num_units=150, nonlinearity=leaky_rectify,W=lasagne.init.GlorotUniform(init))) #remember to connect the new conv-layer here\n",
    "l_out = DenseLayer( lasagne.layers.dropout(l_hid4,  p=0), num_units=num_class, nonlinearity=softmax)"
   ]
  },
  {
   "cell_type": "code",
   "execution_count": null,
   "metadata": {
    "collapsed": false
   },
   "outputs": [],
   "source": [
    "from lasagne.regularization import regularize_layer_params_weighted, l2, l1\n",
    "sym_x = T.tensor4('sym_x') # a symbolic variable taking on the value of a input batch.\n",
    "sym_t = T.ivector('sym_t') # a symbolic variable taking on the value of the target batch.\n",
    "\n",
    "train_out = lasagne.layers.get_output(l_out, sym_x, deterministic=False)\n",
    "eval_out = lasagne.layers.get_output(l_out, sym_x, deterministic=True)\n",
    "all_params = lasagne.layers.get_all_params(l_out, trainable=True)\n",
    "cost = T.nnet.categorical_crossentropy(train_out+1e-8, sym_t).mean()\n",
    "\n",
    "all_grads = T.grad(cost, all_params)\n",
    "\n",
    "\n",
    "updates = lasagne.updates.adadelta(all_grads, all_params, learning_rate=0.01)\n",
    "\n",
    "f_eval = theano.function([sym_x],\n",
    "                     eval_out, on_unused_input='warn')\n",
    "\n",
    "f_train = theano.function([sym_x, sym_t],\n",
    "                          [cost],\n",
    "                          updates=updates, on_unused_input='warn')"
   ]
  },
  {
   "cell_type": "code",
   "execution_count": null,
   "metadata": {
    "collapsed": false,
    "scrolled": false
   },
   "outputs": [],
   "source": [
    "import sys\n",
    "num_epochs=2\n",
    "num_classes=10\n",
    "train_acc, train_loss = [], []\n",
    "valid_acc, valid_loss = [], []\n",
    "test_acc, test_loss = [], []\n",
    "cur_loss = 0\n",
    "loss = []\n",
    "batch_size = 100\n",
    "num_epochs = 2\n",
    "learning_rate = 0.1\n",
    "num_samples_train = x_train.shape[0]\n",
    "num_batches_train = num_samples_train // batch_size\n",
    "num_batches_train=500\n",
    "x_train=x_train.reshape((-1,1,28,28))\n",
    "for epoch in range(num_epochs):\n",
    "        cur_loss = 0\n",
    "        for i in range(num_batches_train):\n",
    "            if i%20==0:\n",
    "                print i/20,\n",
    "            idx = range(i*batch_size, (i+1)*batch_size)\n",
    "            x_batch = x_train[idx]\n",
    "            target_batch = y_train[idx]    \n",
    "            batch_loss = f_train(x_batch,target_batch) #this will do the complete backprob pass\n",
    "            cur_loss += batch_loss[0]\n",
    "        loss += [cur_loss/batch_size]\n",
    "\n",
    "        for i in range(num_batches_train):\n",
    "            idx = range(i*batch_size, (i+1)*batch_size)\n",
    "            x_batch = x_train[idx]\n",
    "            targets_batch = y_train[idx]\n",
    "            net_out = f_eval(x_batch)   \n",
    "            preds = np.argmax(net_out, axis=-1) \n",
    "\n",
    "\n",
    "        train_acc += [train_acc_cur]\n",
    "        print \"Epoch %i : Train Loss %e , Train acc %f\" \\\n",
    "        % (epoch+1, loss[-1], train_acc_cur)\n",
    "\n",
    "\n",
    "\n",
    "epoch = np.arange(len(train_acc))\n",
    "plt.figure()\n",
    "plt.plot(epoch,train_acc,'r')\n",
    "plt.legend(['Train Acc'])\n",
    "plt.xlabel('Epochs'), plt.ylabel('Acc'), plt.ylim([0.75,1.03])\n"
   ]
  },
  {
   "cell_type": "code",
   "execution_count": null,
   "metadata": {
    "collapsed": true
   },
   "outputs": [],
   "source": []
  },
  {
   "cell_type": "code",
   "execution_count": null,
   "metadata": {
    "collapsed": true
   },
   "outputs": [],
   "source": []
  },
  {
   "cell_type": "code",
   "execution_count": null,
   "metadata": {
    "collapsed": false
   },
   "outputs": [],
   "source": []
  },
  {
   "cell_type": "code",
   "execution_count": null,
   "metadata": {
    "collapsed": false
   },
   "outputs": [],
   "source": []
  },
  {
   "cell_type": "code",
   "execution_count": null,
   "metadata": {
    "collapsed": false
   },
   "outputs": [],
   "source": []
  },
  {
   "cell_type": "code",
   "execution_count": null,
   "metadata": {
    "collapsed": false
   },
   "outputs": [],
   "source": []
  },
  {
   "cell_type": "code",
   "execution_count": null,
   "metadata": {
    "collapsed": false,
    "scrolled": true
   },
   "outputs": [],
   "source": []
  },
  {
   "cell_type": "code",
   "execution_count": null,
   "metadata": {
    "collapsed": true
   },
   "outputs": [],
   "source": []
  },
  {
   "cell_type": "code",
   "execution_count": null,
   "metadata": {
    "collapsed": false,
    "scrolled": true
   },
   "outputs": [],
   "source": []
  },
  {
   "cell_type": "code",
   "execution_count": null,
   "metadata": {
    "collapsed": true
   },
   "outputs": [],
   "source": []
  },
  {
   "cell_type": "code",
   "execution_count": null,
   "metadata": {
    "collapsed": false
   },
   "outputs": [],
   "source": []
  },
  {
   "cell_type": "code",
   "execution_count": null,
   "metadata": {
    "collapsed": true
   },
   "outputs": [],
   "source": []
  }
 ],
 "metadata": {
  "kernelspec": {
   "display_name": "Python 2",
   "language": "python",
   "name": "python2"
  },
  "language_info": {
   "codemirror_mode": {
    "name": "ipython",
    "version": 2
   },
   "file_extension": ".py",
   "mimetype": "text/x-python",
   "name": "python",
   "nbconvert_exporter": "python",
   "pygments_lexer": "ipython2",
   "version": "2.7.11+"
  }
 },
 "nbformat": 4,
 "nbformat_minor": 0
}
